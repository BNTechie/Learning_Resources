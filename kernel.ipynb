{
  "cells": [
    {
      "metadata": {
        "_cell_guid": "32c8a43e-72e3-95ef-57d2-40aa08c35c22",
        "_uuid": "e60777a7996e7e1d98c13e3e6c9ebe88ca709b54"
      },
      "cell_type": "markdown",
      "source": "# Introduction\nThis notebook demos Data Visualisation and various Machine Learning Classification algorithms on Pima Indians dataset."
    },
    {
      "metadata": {
        "_cell_guid": "5166fbdf-c8ee-0ea0-cab5-80f3bef90e53",
        "_uuid": "caeefa51d519874d1edf77d688ae37de861e4e59",
        "trusted": false
      },
      "cell_type": "code",
      "source": "from IPython.display import YouTubeVideo\nYouTubeVideo(\"pN4HqWRybwk\")",
      "execution_count": null,
      "outputs": []
    },
    {
      "metadata": {
        "_cell_guid": "eafe9f14-7355-31d6-8bbd-95adf138a844",
        "_uuid": "d24986650e9996611856dd581821a4d19b246a42"
      },
      "cell_type": "markdown",
      "source": "# 1) Loading Libraries"
    },
    {
      "metadata": {
        "_cell_guid": "adc9b57d-5b65-cae9-ade6-8d447f9e13f1",
        "_uuid": "3eb01e351d54fa45725ce02803133ab38b641175",
        "trusted": false
      },
      "cell_type": "code",
      "source": "import pandas as pd\nimport numpy as np\nimport matplotlib.pyplot as plt\nimport seaborn as sns\n%matplotlib inline\n%config InlineBackend.figure_format = 'retina'\nimport warnings\nwarnings.filterwarnings('ignore')",
      "execution_count": null,
      "outputs": []
    },
    {
      "metadata": {
        "_cell_guid": "de4c480a-a850-ad8e-ea20-9a087b607717",
        "_uuid": "612069dd845ae082710e2e9e9c30f4eecf8906d9"
      },
      "cell_type": "markdown",
      "source": "# 2) Data"
    },
    {
      "metadata": {
        "_cell_guid": "80a65cf6-7fa4-44d6-9a50-bb18b4c741e8",
        "_uuid": "37736c4a1e42d5f3c1a3d59a60ccce2be850575d",
        "trusted": false
      },
      "cell_type": "code",
      "source": "pima = pd.read_csv(\"../input/diabetes.csv\")",
      "execution_count": null,
      "outputs": []
    },
    {
      "metadata": {
        "_cell_guid": "3a1b55fd-6d66-376a-2c23-fde7e2976b79",
        "_uuid": "3fdcccadda2f88ccfb2b911bc52241e04a37b9e4",
        "trusted": false
      },
      "cell_type": "code",
      "source": "pima.head()",
      "execution_count": null,
      "outputs": []
    },
    {
      "metadata": {
        "_cell_guid": "1d647ce6-1473-16b5-9a57-558e0915310c",
        "_uuid": "5c1e07af0057115fae14e263a948d6f41b73176c"
      },
      "cell_type": "markdown",
      "source": "#### Additional details about the attributes\n\n>Pregnancies: Number of times pregnant\n\n>Glucose: Plasma glucose concentration a 2 hours in an oral glucose tolerance test\n\n>BloodPressure: Diastolic blood pressure (mm Hg)\n\n>SkinThickness: Triceps skin fold thickness (mm)\n\n>Insulin: 2-Hour serum insulin (mu U/ml)\n\n>BMI: Body mass index (weight in kg/(height in m)^2)\n\n>DiabetesPedigreeFunction: Diabetes pedigree function\n\n>Age: Age (years)\n\n>Outcome: Class variable (0 or 1)"
    },
    {
      "metadata": {
        "_cell_guid": "0825eeb4-3227-df81-2c5a-e9b7659add6f",
        "_uuid": "392954a1dc6a151c1676401e6665ca1aa30787fb",
        "trusted": false
      },
      "cell_type": "code",
      "source": "pima.shape",
      "execution_count": null,
      "outputs": []
    },
    {
      "metadata": {
        "_cell_guid": "08683b6d-c448-19c7-8c5a-9fd8667c1c2f",
        "_uuid": "6fd1fdbbcad15335e351c76ada8d3a7c5f9bbd82",
        "trusted": false
      },
      "cell_type": "code",
      "source": "pima.describe()",
      "execution_count": null,
      "outputs": []
    },
    {
      "metadata": {
        "_cell_guid": "152d6bef-45cb-ed9c-f683-e969745f8b2c",
        "_uuid": "674cdd27249a00b028a905d0da22af826173b1e5",
        "trusted": false
      },
      "cell_type": "code",
      "source": "pima.groupby(\"Outcome\").size()",
      "execution_count": null,
      "outputs": []
    },
    {
      "metadata": {
        "_cell_guid": "ebf1a6bb-9865-88e3-9c09-ef9200761cae",
        "_uuid": "1251680cb4fcdde72aec843e55e08f43c4d41612"
      },
      "cell_type": "markdown",
      "source": "# 3) Data Visualisation\nLet's try to visualise this data"
    },
    {
      "metadata": {
        "_cell_guid": "6bbb9df3-cc83-d866-f28d-80b495a9d766",
        "_uuid": "6db73fbc8a9bd295c5574c99ca45290cce072515",
        "trusted": false
      },
      "cell_type": "code",
      "source": "pima.hist(figsize=(10,8))",
      "execution_count": null,
      "outputs": []
    },
    {
      "metadata": {
        "_cell_guid": "25ba61b9-316a-6ef9-d26c-86aaa44155da",
        "_uuid": "3b7b31814258b9882af7db2d537d8ff5dd05f266",
        "trusted": false
      },
      "cell_type": "code",
      "source": "pima.plot(kind= 'box' , subplots=True, layout=(3,3), sharex=False, sharey=False, figsize=(10,8))",
      "execution_count": null,
      "outputs": []
    },
    {
      "metadata": {
        "_cell_guid": "a5ae394c-a67a-e37a-f582-5f866e40bf62",
        "_uuid": "ba12feb9b8a5acbc6713de24d7bbeedf3b2d1f6b",
        "trusted": false
      },
      "cell_type": "code",
      "source": "column_x = pima.columns[0:len(pima.columns) - 1]",
      "execution_count": null,
      "outputs": []
    },
    {
      "metadata": {
        "_cell_guid": "2d60c9f9-3b08-8555-2c7c-f0bfd794b5f2",
        "_uuid": "b013328e7960352f080d55a50ea584a13d819668",
        "trusted": false
      },
      "cell_type": "code",
      "source": "column_x",
      "execution_count": null,
      "outputs": []
    },
    {
      "metadata": {
        "_cell_guid": "a48257f7-e038-8f20-eebb-162425ed7116",
        "_uuid": "2359cd7904a0a3760f1f3e1d2873b657d633c2e0",
        "trusted": false
      },
      "cell_type": "code",
      "source": "corr = pima[pima.columns].corr()",
      "execution_count": null,
      "outputs": []
    },
    {
      "metadata": {
        "_cell_guid": "0eeae356-5f66-6e61-fb36-e1db010fa3c6",
        "_uuid": "58dcd8b6a7ed751e82a698df563965de04cc0bfd",
        "trusted": false
      },
      "cell_type": "code",
      "source": "sns.heatmap(corr, annot = True)",
      "execution_count": null,
      "outputs": []
    },
    {
      "metadata": {
        "_cell_guid": "d87ece07-31d8-db56-5c82-3e11bb926468",
        "_uuid": "e67c94ccfa9a7c743cdf675af0de4569c2fe17a8"
      },
      "cell_type": "markdown",
      "source": "# 4) Feature Extraction"
    },
    {
      "metadata": {
        "_cell_guid": "6458d980-465b-63a2-621b-a9a0dee7ca11",
        "_uuid": "6e4e363f3866a407c26846bd3c9c1443dbb2e7f9",
        "trusted": false
      },
      "cell_type": "code",
      "source": "from sklearn.feature_selection import SelectKBest\nfrom sklearn.feature_selection import chi2",
      "execution_count": null,
      "outputs": []
    },
    {
      "metadata": {
        "_cell_guid": "35b9504d-b0bf-5672-2391-59247dc52e54",
        "_uuid": "c13a955398c9e258dd10152bb826cdf3d116fd4c",
        "trusted": false
      },
      "cell_type": "code",
      "source": "X = pima.iloc[:,0:8]\nY = pima.iloc[:,8]\nselect_top_4 = SelectKBest(score_func=chi2, k = 4)",
      "execution_count": null,
      "outputs": []
    },
    {
      "metadata": {
        "_cell_guid": "b5c6413e-0813-e79d-caf6-834d822f9b61",
        "_uuid": "42b3f42c67b29cd9e780f25e3a6994ce36929280",
        "trusted": false
      },
      "cell_type": "code",
      "source": "fit = select_top_4.fit(X,Y)\nfeatures = fit.transform(X)",
      "execution_count": null,
      "outputs": []
    },
    {
      "metadata": {
        "_cell_guid": "bfe5cbbe-7428-687d-9d6b-4815b6eef001",
        "_uuid": "37ef6e20058e48398cf58d763d72eadb1b709690",
        "trusted": false
      },
      "cell_type": "code",
      "source": "features[0:5]",
      "execution_count": null,
      "outputs": []
    },
    {
      "metadata": {
        "_cell_guid": "0227040c-2bb7-fb57-89c6-feb8a648f6af",
        "_uuid": "3cb98201a24fb071b309d1c5d5880e1d6403cb11",
        "trusted": false
      },
      "cell_type": "code",
      "source": "pima.head()",
      "execution_count": null,
      "outputs": []
    },
    {
      "metadata": {
        "_cell_guid": "adb4e801-db37-eb82-1ade-583c02ff3755",
        "_uuid": "e28a4c66c5cbd2b7279bf028352b733b27217b18"
      },
      "cell_type": "markdown",
      "source": "So, the top performing features are Glucose, Insulin, BMI, Age "
    },
    {
      "metadata": {
        "_cell_guid": "35df4108-e277-72eb-6dc2-55c6c93b9aa2",
        "_uuid": "a5acb7aa27890797a5b7c697f1d5b8be48b0a4ff",
        "trusted": false
      },
      "cell_type": "code",
      "source": "X_features = pd.DataFrame(data = features, columns = [\"Glucose\",\"Insulin\",\"BMI\",\"Age\"])",
      "execution_count": null,
      "outputs": []
    },
    {
      "metadata": {
        "_cell_guid": "4c5cbdd2-453c-99c7-5ab0-9ccc1738426a",
        "_uuid": "b31ebb54e3d92446545e31050666128852b174f7",
        "trusted": false
      },
      "cell_type": "code",
      "source": "X_features.head()",
      "execution_count": null,
      "outputs": []
    },
    {
      "metadata": {
        "_cell_guid": "0d40f117-d5ce-4202-fcb8-11d43c9f738d",
        "_uuid": "d67197ebc029fc867601042c162d056a2faef1a9",
        "trusted": false
      },
      "cell_type": "code",
      "source": "Y = pima.iloc[:,8]",
      "execution_count": null,
      "outputs": []
    },
    {
      "metadata": {
        "_cell_guid": "fc1f4634-7750-8672-b41c-4214d697ec75",
        "_uuid": "1b37d389e044a0f6ebe2cd37b556a260fbafda8b",
        "trusted": false
      },
      "cell_type": "code",
      "source": "Y.head()",
      "execution_count": null,
      "outputs": []
    },
    {
      "metadata": {
        "_cell_guid": "de38724c-1710-73b2-ddf8-d2ee950705d0",
        "_uuid": "f6399b2d7cfc176dfa47d8e9b48c87a4b2e83d26"
      },
      "cell_type": "markdown",
      "source": "#  5) Standardization\nIt changes the attribute values to Guassian distribution with mean as 0 and standard deviation as 1. It is useful when the algorithm expects the input features to be in Guassian distribution."
    },
    {
      "metadata": {
        "_cell_guid": "673778b0-9cb5-817f-f90b-85c089e819e3",
        "_uuid": "98baa5987cce732282c5a865179062902c2be61f",
        "trusted": false
      },
      "cell_type": "code",
      "source": "from sklearn.preprocessing import StandardScaler\nrescaledX = StandardScaler().fit_transform(X_features)",
      "execution_count": null,
      "outputs": []
    },
    {
      "metadata": {
        "_cell_guid": "e474197f-87d1-c772-22e9-a4fe130dfa77",
        "_uuid": "c16ba5ef469bae23505f9dfa077f1e281f70e2b4",
        "trusted": false
      },
      "cell_type": "code",
      "source": "X = pd.DataFrame(data = rescaledX, columns= X_features.columns)",
      "execution_count": null,
      "outputs": []
    },
    {
      "metadata": {
        "_cell_guid": "6fe88dd2-876a-5627-3e0a-ec887636f36b",
        "_uuid": "9ff017e43a9f927d5ad8c9bc83239aeaa69766cc",
        "trusted": false
      },
      "cell_type": "code",
      "source": "X.head()",
      "execution_count": null,
      "outputs": []
    },
    {
      "metadata": {
        "_cell_guid": "930f39d9-d9c5-218e-960c-0fe554bf8953",
        "_uuid": "3871aab11328054992373bfec8ac679dafaf320f"
      },
      "cell_type": "markdown",
      "source": "# 6) Binary Classification"
    },
    {
      "metadata": {
        "_cell_guid": "08276714-6685-0282-ce43-02239230c8e6",
        "_uuid": "0a7a244ed9be09462c8dd8722e4a1915bc5d90e1",
        "trusted": false
      },
      "cell_type": "code",
      "source": "from sklearn.model_selection import train_test_split\nX_train,X_test,Y_train,Y_test = train_test_split(X,Y, random_state = 22, test_size = 0.2)",
      "execution_count": null,
      "outputs": []
    },
    {
      "metadata": {
        "_cell_guid": "f2e20798-7872-82ab-ed46-bb66e73fb203",
        "_uuid": "e7e66cf7472a2f8cc81b8482f3311a4d2deb3c8f",
        "trusted": false
      },
      "cell_type": "code",
      "source": "from sklearn.model_selection import KFold\nfrom sklearn.model_selection import cross_val_score\nfrom sklearn.linear_model import LogisticRegression\nfrom sklearn.naive_bayes import GaussianNB\nfrom sklearn.neighbors import KNeighborsClassifier\nfrom sklearn.tree import DecisionTreeClassifier\nfrom sklearn.svm import SVC",
      "execution_count": null,
      "outputs": []
    },
    {
      "metadata": {
        "_cell_guid": "708d0c2b-f690-07a6-6ab7-07e102c5b7cd",
        "_uuid": "2494da32cac9b8e3f0535c5a9db682acb029f081",
        "trusted": false
      },
      "cell_type": "code",
      "source": "models = []\nmodels.append((\"LR\",LogisticRegression()))\nmodels.append((\"NB\",GaussianNB()))\nmodels.append((\"KNN\",KNeighborsClassifier()))\nmodels.append((\"DT\",DecisionTreeClassifier()))\nmodels.append((\"SVM\",SVC()))",
      "execution_count": null,
      "outputs": []
    },
    {
      "metadata": {
        "_cell_guid": "0528231f-cc03-0a28-f1fa-202299258b36",
        "_uuid": "e62674d72195b53d5e49fd3b660eab968e3dd5db",
        "trusted": false
      },
      "cell_type": "code",
      "source": "results = []\nnames = []\nfor name,model in models:\n    kfold = KFold(n_splits=10, random_state=22)\n    cv_result = cross_val_score(model,X_train,Y_train, cv = kfold,scoring = \"accuracy\")\n    names.append(name)\n    results.append(cv_result)\nfor i in range(len(names)):\n    print(names[i],results[i].mean())",
      "execution_count": null,
      "outputs": []
    },
    {
      "metadata": {
        "_cell_guid": "7d1f3c5b-d571-be87-4bd0-415687eebcf5",
        "_uuid": "f2736fa9074e81f9382d5b331e9f83c8fb7bda44"
      },
      "cell_type": "markdown",
      "source": "# 7) Visualising Results"
    },
    {
      "metadata": {
        "_cell_guid": "3214276a-7d5e-9f66-54b7-694c79344652",
        "_uuid": "d63a9811bd79d6f529f5f8a92f7fc8ef69332002",
        "trusted": false
      },
      "cell_type": "code",
      "source": "ax = sns.boxplot(data=results)\nax.set_xticklabels(names)",
      "execution_count": null,
      "outputs": []
    },
    {
      "metadata": {
        "_cell_guid": "68967588-ff2c-7ee8-d6e0-d06d8dff3e16",
        "_uuid": "1a46dc7d58ac47e94ce30cb4a0141095c2233710"
      },
      "cell_type": "markdown",
      "source": "# 8) Final Prediction using Test Data\nLogistic Regression and SVM provides maximum results."
    },
    {
      "metadata": {
        "_cell_guid": "d77a27ff-8f61-7242-c86b-1443e10b103e",
        "_uuid": "7d5a1eafea964e7ccba4863fbe5176c635366288",
        "trusted": false
      },
      "cell_type": "code",
      "source": "lr = LogisticRegression()\nlr.fit(X_train,Y_train)\npredictions = lr.predict(X_test)",
      "execution_count": null,
      "outputs": []
    },
    {
      "metadata": {
        "_cell_guid": "66843c61-e45b-0c71-a272-2a826891f3f3",
        "_uuid": "b8d53fd8370636983e6096da46c318a150127593",
        "trusted": false
      },
      "cell_type": "code",
      "source": "from sklearn.metrics import accuracy_score\nfrom sklearn.metrics import classification_report\nfrom sklearn.metrics import confusion_matrix",
      "execution_count": null,
      "outputs": []
    },
    {
      "metadata": {
        "_cell_guid": "de390bee-ebfb-aa6b-5eb3-91ec4c3adb1b",
        "_uuid": "906e97ca6b83897b3dba59cbee75cad247494161",
        "trusted": false
      },
      "cell_type": "code",
      "source": "print(accuracy_score(Y_test,predictions))",
      "execution_count": null,
      "outputs": []
    },
    {
      "metadata": {
        "_cell_guid": "1a4bcb26-84bd-7f93-335d-7ccad4ea9db0",
        "_uuid": "b8a2aa3092ab2ef6f6038cddc2b6bfc47c9867f6",
        "trusted": false
      },
      "cell_type": "code",
      "source": "svm = SVC()\nsvm.fit(X_train,Y_train)\npredictions = svm.predict(X_test)",
      "execution_count": null,
      "outputs": []
    },
    {
      "metadata": {
        "_cell_guid": "d15185df-3aa7-208f-b7a9-b7f4a9784e97",
        "_uuid": "d406f4e93eebb80c24dddfebc296619d90c13e42",
        "trusted": false
      },
      "cell_type": "code",
      "source": "print(accuracy_score(Y_test,predictions))",
      "execution_count": null,
      "outputs": []
    },
    {
      "metadata": {
        "_cell_guid": "5255869d-4d01-9348-1fad-c037e7147182",
        "_uuid": "fb322bac5546feeeaf7e0e5c4f42c17b0163b8ee",
        "trusted": false
      },
      "cell_type": "code",
      "source": "print(classification_report(Y_test,predictions))",
      "execution_count": null,
      "outputs": []
    },
    {
      "metadata": {
        "_cell_guid": "bfdecf2f-f3cc-696f-7e75-6258c01497b2",
        "_uuid": "f51b615ee8e00534a9bbe99ca96ffa689b44034f",
        "trusted": false
      },
      "cell_type": "code",
      "source": "conf = confusion_matrix(Y_test,predictions)",
      "execution_count": null,
      "outputs": []
    },
    {
      "metadata": {
        "_cell_guid": "c51c12d0-8dd7-8fec-6376-4793f5da9f1d",
        "_uuid": "c2100c850efb4a183e2ffdebb4c53c207745b54c",
        "trusted": false
      },
      "cell_type": "code",
      "source": "label = [\"0\",\"1\"]\nsns.heatmap(conf, annot=True, xticklabels=label, yticklabels=label)",
      "execution_count": null,
      "outputs": []
    }
  ],
  "metadata": {
    "_change_revision": 0,
    "_is_fork": false,
    "kernelspec": {
      "display_name": "Python 3",
      "language": "python",
      "name": "python3"
    },
    "language_info": {
      "name": "python",
      "version": "3.6.6",
      "mimetype": "text/x-python",
      "codemirror_mode": {
        "name": "ipython",
        "version": 3
      },
      "pygments_lexer": "ipython3",
      "nbconvert_exporter": "python",
      "file_extension": ".py"
    }
  },
  "nbformat": 4,
  "nbformat_minor": 1
}